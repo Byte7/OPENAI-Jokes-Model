{
 "cells": [
  {
   "cell_type": "markdown",
   "metadata": {},
   "source": [
    "## Some new approach"
   ]
  },
  {
   "cell_type": "markdown",
   "metadata": {},
   "source": [
    "### SimpleRNN"
   ]
  },
  {
   "cell_type": "code",
   "execution_count": null,
   "metadata": {},
   "outputs": [],
   "source": [
    "from keras.models import Sequential\n",
    "from keras.layers.core import Dense, Activation, Dropout\n",
    "from keras.layers.recurrent import LSTM, SimpleRNN\n",
    "from keras.layers.wrappers import TimeDistributed\n",
    "from keras.layers import Embedding"
   ]
  },
  {
   "cell_type": "code",
   "execution_count": null,
   "metadata": {},
   "outputs": [],
   "source": [
    "input_dim = 1024    #random for now\n",
    "output_dim = 10     #random for now\n",
    "rnnmodel = Sequential()\n",
    "rnnmodel.add(Embedding(input_dim, output_dim))\n",
    "rnnmodel.add(SimpleRNN(256, activation='tanh', input_dim=100)) # input_dim putin randomly for now\n",
    "rnnmodel.add(Dropout(0.5))\n",
    "rnnmodel.add(Dense(output_features, activation='softmax'))\n",
    "rnnmodel.compile(loss='categorical_crossentropy', optimizer='rmsprop')"
   ]
  },
  {
   "cell_type": "markdown",
   "metadata": {},
   "source": [
    "### LSTM"
   ]
  },
  {
   "cell_type": "code",
   "execution_count": null,
   "metadata": {
    "collapsed": true
   },
   "outputs": [],
   "source": [
    "num_steps=30 #random\n",
    "\n",
    "batch_size=20\n",
    "\n",
    "hidden_size=500\n",
    "\n",
    "lstm = Sequential()\n",
    "lstm.add(Embedding(input_data, hidden_size, input_length=num_steps))\n",
    "lstm.add(LSTM(hidden_size, return_sequences=True))\n",
    "latm.add(LSTM(hidden_size, return_sequences=True))\n",
    "lstm.add(Dropout(0.5))\n",
    "lstm.add(TimeDistributed(Dense(vocabulary)))\n",
    "lstm.add(Activation('softmax'))\n",
    "\n",
    "lstm.compile(loss='categorical_crossentropy', optimizer='adam', metrics=['categorical_accuracy'])"
   ]
  }
 ],
 "metadata": {
  "kernelspec": {
   "display_name": "Python 3",
   "language": "python",
   "name": "python3"
  },
  "language_info": {
   "codemirror_mode": {
    "name": "ipython",
    "version": 3
   },
   "file_extension": ".py",
   "mimetype": "text/x-python",
   "name": "python",
   "nbconvert_exporter": "python",
   "pygments_lexer": "ipython3",
   "version": "3.6.2"
  }
 },
 "nbformat": 4,
 "nbformat_minor": 2
}
